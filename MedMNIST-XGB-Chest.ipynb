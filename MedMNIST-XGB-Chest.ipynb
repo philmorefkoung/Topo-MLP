{
 "cells": [
  {
   "cell_type": "code",
   "execution_count": 1,
   "id": "eb332536-3171-496d-b82e-3f33b7b26f4a",
   "metadata": {},
   "outputs": [],
   "source": [
    "import xgboost as xgb\n",
    "from sklearn.model_selection import RandomizedSearchCV\n",
    "from sklearn.preprocessing import MultiLabelBinarizer, LabelEncoder, label_binarize\n",
    "from sklearn.metrics import accuracy_score, roc_auc_score\n",
    "import numpy as np\n",
    "import pandas as pd\n",
    "import tensorflow as tf"
   ]
  },
  {
   "cell_type": "code",
   "execution_count": 2,
   "id": "91bd0bd3-b46e-40ce-8684-469b67904e6c",
   "metadata": {},
   "outputs": [],
   "source": [
    "n_classes = 16384"
   ]
  },
  {
   "cell_type": "code",
   "execution_count": 3,
   "id": "e2e26273-4e26-4f02-ab2b-5a68bd954118",
   "metadata": {},
   "outputs": [],
   "source": [
    "# pneum retina breast\n",
    "data = np.load('chestmnist.npz')\n",
    "\n",
    "# Load the training data\n",
    "X_train = pd.read_csv('train_ChestMnist224_BettiVectors_100.csv')\n",
    "X_test = pd.read_csv('test_ChestMnist224_BettiVectors_100.csv')\n",
    "\n",
    "train_labels = data['train_labels']\n",
    "test_labels = data['test_labels']"
   ]
  },
  {
   "cell_type": "code",
   "execution_count": 4,
   "id": "deace236-dc56-497b-aedd-80c70d3da6ad",
   "metadata": {},
   "outputs": [],
   "source": [
    "def one_hot_to_integer(one_hot_labels):\n",
    "    # Convert one-hot encoded labels to integer labels\n",
    "    return np.argmax(one_hot_labels, axis=1)\n",
    "\n",
    "# Convert y_train and y_test from one-hot to integer format\n",
    "y_train = one_hot_to_integer(train_labels)\n",
    "y_test = one_hot_to_integer(test_labels)"
   ]
  },
  {
   "cell_type": "code",
   "execution_count": null,
   "id": "bb14aeb4-fd7d-4603-8319-b399e667a17b",
   "metadata": {},
   "outputs": [],
   "source": [
    "model = xgb.XGBClassifier(objective='multi:softmax', num_class = n_classes, n_estimators=100)\n",
    "\n",
    "model.fit(X_train, y_train)\n",
    "\n",
    "normal_prediction = model.predict(X_test)\n",
    "\n",
    "accuracy = accuracy_score(y_test, normal_prediction)\n",
    "\n",
    "print(f\"Accuracy: {accuracy * 100:.2f}%\")"
   ]
  },
  {
   "cell_type": "code",
   "execution_count": null,
   "id": "655e3f1b-9a16-4742-bdbb-a552ef191168",
   "metadata": {},
   "outputs": [],
   "source": [
    "probabilities = model.predict_proba(X_test)\n",
    "\n",
    "auc = roc_auc_score(y_test, probabilities, multi_class='ovr')\n",
    "\n",
    "print(f\"AUC: {auc * 100:.2f}%\")"
   ]
  },
  {
   "cell_type": "markdown",
   "id": "ce8e65b6-d9d8-4b96-90cd-a9fa49ad1bca",
   "metadata": {},
   "source": [
    "###### "
   ]
  }
 ],
 "metadata": {
  "kernelspec": {
   "display_name": "Python 3 (ipykernel)",
   "language": "python",
   "name": "python3"
  },
  "language_info": {
   "codemirror_mode": {
    "name": "ipython",
    "version": 3
   },
   "file_extension": ".py",
   "mimetype": "text/x-python",
   "name": "python",
   "nbconvert_exporter": "python",
   "pygments_lexer": "ipython3",
   "version": "3.9.19"
  }
 },
 "nbformat": 4,
 "nbformat_minor": 5
}
