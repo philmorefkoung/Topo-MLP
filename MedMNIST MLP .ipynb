{
 "cells": [
  {
   "cell_type": "code",
   "execution_count": 14,
   "id": "42e593c6-17ef-42ba-b34d-c7404a53e1a6",
   "metadata": {},
   "outputs": [],
   "source": [
    "import pandas as pd\n",
    "import numpy as np\n",
    "import tensorflow as tf\n",
    "from tensorflow.keras.models import Sequential\n",
    "from tensorflow.keras.layers import Dense, Dropout\n",
    "from sklearn.preprocessing import StandardScaler, OneHotEncoder, LabelEncoder\n",
    "from sklearn.metrics import roc_auc_score\n",
    "from tensorflow.keras.optimizers import Adam\n",
    "from tensorflow.keras.regularizers import l2"
   ]
  },
  {
   "cell_type": "code",
   "execution_count": 15,
   "id": "12c8ba39-2810-40e5-bd5d-2d11cce14f66",
   "metadata": {},
   "outputs": [],
   "source": [
    "train = pd.read_csv(\"train_28_FractureMNIST3D_BettiVectors_100.csv\")\n",
    "test = pd.read_csv(\"test_28_FractureMNIST3D_BettiVectors_100.csv\")"
   ]
  },
  {
   "cell_type": "code",
   "execution_count": 16,
   "id": "2125cada-0fb4-49bb-9f6b-71e8eaa7f53f",
   "metadata": {},
   "outputs": [],
   "source": [
    "input_dim = 300\n",
    "n_classes = 3"
   ]
  },
  {
   "cell_type": "code",
   "execution_count": 17,
   "id": "7af4fa72-00a1-4c45-abca-3fddbd9bb982",
   "metadata": {},
   "outputs": [],
   "source": [
    "data = np.load('fracturemnist3d.npz')\n",
    "train_lables = data['train_labels']\n",
    "test_lables = data['test_labels']"
   ]
  },
  {
   "cell_type": "code",
   "execution_count": 18,
   "id": "b9ab1115-4b80-4fda-9ef8-9de9664eb072",
   "metadata": {},
   "outputs": [],
   "source": [
    "train_lables_df = pd.DataFrame(train_lables)\n",
    "test_lables_df = pd.DataFrame(test_lables)"
   ]
  },
  {
   "cell_type": "code",
   "execution_count": 19,
   "id": "eb0f83b0-7db2-472f-af97-10a0dc5125d6",
   "metadata": {},
   "outputs": [],
   "source": [
    "train_lables_df['combined'] = train_lables_df.astype(str).apply(''.join, axis=1)\n",
    "test_lables_df['combined'] = test_lables_df.astype(str).apply(''.join, axis=1)"
   ]
  },
  {
   "cell_type": "code",
   "execution_count": 20,
   "id": "e7bd500d-5e94-45fd-b787-040d88ecfea7",
   "metadata": {},
   "outputs": [],
   "source": [
    "train_df = pd.DataFrame(train_lables_df['combined'])\n",
    "test_df = pd.DataFrame(test_lables_df['combined'])"
   ]
  },
  {
   "cell_type": "code",
   "execution_count": 21,
   "id": "c5875ed2-b216-4f16-8c64-9204d09f14c5",
   "metadata": {},
   "outputs": [],
   "source": [
    "label_encoder = LabelEncoder() "
   ]
  },
  {
   "cell_type": "code",
   "execution_count": 22,
   "id": "5e8f2615-d257-44b0-a00d-971d93594917",
   "metadata": {
    "scrolled": true
   },
   "outputs": [],
   "source": [
    "train_df['encoded_labels'] = label_encoder.fit_transform(train_df['combined'])\n",
    "test_df['encoded_labels'] = label_encoder.fit_transform(test_df['combined'])"
   ]
  },
  {
   "cell_type": "code",
   "execution_count": 23,
   "id": "7d67981c-e656-465d-881f-4f38b2a875e4",
   "metadata": {},
   "outputs": [],
   "source": [
    "y_train = tf.keras.utils.to_categorical(train_df['encoded_labels'], n_classes) \n",
    "y_test = tf.keras.utils.to_categorical(test_df['encoded_labels'], n_classes) "
   ]
  },
  {
   "cell_type": "code",
   "execution_count": 24,
   "id": "92474965-59cd-432f-af4d-587df4a10463",
   "metadata": {},
   "outputs": [],
   "source": [
    "learning_rate = 0.001\n",
    "reg_factor = 0.01\n",
    "\n",
    "model = Sequential([\n",
    "    Dense(256, activation='relu', input_shape=(input_dim,)),\n",
    "    Dense(256, activation='relu'),\n",
    "    Dense(128, activation='relu'),\n",
    "    Dense(n_classes, activation='softmax')\n",
    "])\n",
    "\n",
    "optimizer = Adam(learning_rate=learning_rate)\n",
    "\n",
    "model.compile(optimizer=optimizer,\n",
    "              loss='categorical_crossentropy',\n",
    "              metrics=['accuracy', 'AUC'])\n"
   ]
  },
  {
   "cell_type": "code",
   "execution_count": 25,
   "id": "07c734b6-6060-4240-a3e7-0c29507ce572",
   "metadata": {
    "scrolled": true
   },
   "outputs": [
    {
     "name": "stdout",
     "output_type": "stream",
     "text": [
      "Epoch 1/100\n",
      "33/33 [==============================] - 1s 4ms/step - loss: 6.3990 - accuracy: 0.4051 - auc: 0.5730\n",
      "Epoch 2/100\n",
      "33/33 [==============================] - 0s 4ms/step - loss: 1.5912 - accuracy: 0.4839 - auc: 0.6680\n",
      "Epoch 3/100\n",
      "33/33 [==============================] - 0s 4ms/step - loss: 1.3904 - accuracy: 0.4314 - auc: 0.6582\n",
      "Epoch 4/100\n",
      "33/33 [==============================] - 0s 4ms/step - loss: 1.2007 - accuracy: 0.4927 - auc: 0.6917\n",
      "Epoch 5/100\n",
      "33/33 [==============================] - 0s 4ms/step - loss: 1.2637 - accuracy: 0.4966 - auc: 0.6758\n",
      "Epoch 6/100\n",
      "33/33 [==============================] - 0s 4ms/step - loss: 1.0578 - accuracy: 0.5170 - auc: 0.7058\n",
      "Epoch 7/100\n",
      "33/33 [==============================] - 0s 5ms/step - loss: 1.0556 - accuracy: 0.5102 - auc: 0.7032\n",
      "Epoch 8/100\n",
      "33/33 [==============================] - 0s 5ms/step - loss: 0.9605 - accuracy: 0.5443 - auc: 0.7395\n",
      "Epoch 9/100\n",
      "33/33 [==============================] - 0s 6ms/step - loss: 0.9795 - accuracy: 0.5443 - auc: 0.7429\n",
      "Epoch 10/100\n",
      "33/33 [==============================] - 0s 6ms/step - loss: 0.9925 - accuracy: 0.5385 - auc: 0.7392\n",
      "Epoch 11/100\n",
      "33/33 [==============================] - 0s 5ms/step - loss: 1.0385 - accuracy: 0.5122 - auc: 0.7107\n",
      "Epoch 12/100\n",
      "33/33 [==============================] - 0s 5ms/step - loss: 0.9703 - accuracy: 0.5453 - auc: 0.7422\n",
      "Epoch 13/100\n",
      "33/33 [==============================] - 0s 5ms/step - loss: 0.9008 - accuracy: 0.5803 - auc: 0.7659\n",
      "Epoch 14/100\n",
      "33/33 [==============================] - 0s 7ms/step - loss: 0.8911 - accuracy: 0.5706 - auc: 0.7724\n",
      "Epoch 15/100\n",
      "33/33 [==============================] - 0s 6ms/step - loss: 0.8991 - accuracy: 0.5686 - auc: 0.7691\n",
      "Epoch 16/100\n",
      "33/33 [==============================] - 0s 5ms/step - loss: 0.9603 - accuracy: 0.5394 - auc: 0.7483\n",
      "Epoch 17/100\n",
      "33/33 [==============================] - 0s 5ms/step - loss: 0.9447 - accuracy: 0.5638 - auc: 0.7515\n",
      "Epoch 18/100\n",
      "33/33 [==============================] - 0s 5ms/step - loss: 0.9002 - accuracy: 0.5638 - auc: 0.7663\n",
      "Epoch 19/100\n",
      "33/33 [==============================] - 0s 6ms/step - loss: 0.8490 - accuracy: 0.5891 - auc: 0.7884\n",
      "Epoch 20/100\n",
      "33/33 [==============================] - 0s 5ms/step - loss: 0.9299 - accuracy: 0.5560 - auc: 0.7562\n",
      "Epoch 21/100\n",
      "33/33 [==============================] - 0s 5ms/step - loss: 0.8749 - accuracy: 0.5901 - auc: 0.7825\n",
      "Epoch 22/100\n",
      "33/33 [==============================] - 0s 5ms/step - loss: 0.9221 - accuracy: 0.5755 - auc: 0.7657\n",
      "Epoch 23/100\n",
      "33/33 [==============================] - 0s 5ms/step - loss: 0.8366 - accuracy: 0.5959 - auc: 0.7983\n",
      "Epoch 24/100\n",
      "33/33 [==============================] - 0s 6ms/step - loss: 0.8681 - accuracy: 0.5823 - auc: 0.7837\n",
      "Epoch 25/100\n",
      "33/33 [==============================] - 0s 6ms/step - loss: 0.8310 - accuracy: 0.6066 - auc: 0.8004\n",
      "Epoch 26/100\n",
      "33/33 [==============================] - 0s 6ms/step - loss: 0.8302 - accuracy: 0.6105 - auc: 0.8030\n",
      "Epoch 27/100\n",
      "33/33 [==============================] - 0s 5ms/step - loss: 0.8796 - accuracy: 0.5901 - auc: 0.7828\n",
      "Epoch 28/100\n",
      "33/33 [==============================] - 0s 5ms/step - loss: 0.8213 - accuracy: 0.6154 - auc: 0.8102\n",
      "Epoch 29/100\n",
      "33/33 [==============================] - 0s 5ms/step - loss: 0.8623 - accuracy: 0.5852 - auc: 0.7885\n",
      "Epoch 30/100\n",
      "33/33 [==============================] - 0s 5ms/step - loss: 0.8733 - accuracy: 0.5920 - auc: 0.7856\n",
      "Epoch 31/100\n",
      "33/33 [==============================] - 0s 7ms/step - loss: 0.8405 - accuracy: 0.6027 - auc: 0.7987\n",
      "Epoch 32/100\n",
      "33/33 [==============================] - 0s 5ms/step - loss: 0.7886 - accuracy: 0.6261 - auc: 0.8186\n",
      "Epoch 33/100\n",
      "33/33 [==============================] - 0s 5ms/step - loss: 0.7801 - accuracy: 0.6407 - auc: 0.8249\n",
      "Epoch 34/100\n",
      "33/33 [==============================] - 0s 5ms/step - loss: 0.8620 - accuracy: 0.6125 - auc: 0.8043\n",
      "Epoch 35/100\n",
      "33/33 [==============================] - 0s 5ms/step - loss: 0.8266 - accuracy: 0.6076 - auc: 0.8068\n",
      "Epoch 36/100\n",
      "33/33 [==============================] - 0s 7ms/step - loss: 0.7317 - accuracy: 0.6631 - auc: 0.8469\n",
      "Epoch 37/100\n",
      "33/33 [==============================] - 0s 4ms/step - loss: 0.7929 - accuracy: 0.6232 - auc: 0.8206\n",
      "Epoch 38/100\n",
      "33/33 [==============================] - 0s 4ms/step - loss: 0.8777 - accuracy: 0.5998 - auc: 0.7951\n",
      "Epoch 39/100\n",
      "33/33 [==============================] - 0s 6ms/step - loss: 0.8059 - accuracy: 0.6280 - auc: 0.8149\n",
      "Epoch 40/100\n",
      "33/33 [==============================] - 0s 7ms/step - loss: 0.8046 - accuracy: 0.6144 - auc: 0.8166\n",
      "Epoch 41/100\n",
      "33/33 [==============================] - 0s 7ms/step - loss: 0.7472 - accuracy: 0.6495 - auc: 0.8400\n",
      "Epoch 42/100\n",
      "33/33 [==============================] - 0s 6ms/step - loss: 0.7325 - accuracy: 0.6611 - auc: 0.8483\n",
      "Epoch 43/100\n",
      "33/33 [==============================] - 0s 5ms/step - loss: 0.6928 - accuracy: 0.6748 - auc: 0.8625\n",
      "Epoch 44/100\n",
      "33/33 [==============================] - 0s 5ms/step - loss: 0.8102 - accuracy: 0.6446 - auc: 0.8199\n",
      "Epoch 45/100\n",
      "33/33 [==============================] - 0s 5ms/step - loss: 0.8259 - accuracy: 0.6066 - auc: 0.8043\n",
      "Epoch 46/100\n",
      "33/33 [==============================] - 0s 5ms/step - loss: 0.7744 - accuracy: 0.6222 - auc: 0.8272\n",
      "Epoch 47/100\n",
      "33/33 [==============================] - 0s 5ms/step - loss: 0.7168 - accuracy: 0.6689 - auc: 0.8533\n",
      "Epoch 48/100\n",
      "33/33 [==============================] - 0s 5ms/step - loss: 0.7173 - accuracy: 0.6641 - auc: 0.8524\n",
      "Epoch 49/100\n",
      "33/33 [==============================] - 0s 5ms/step - loss: 0.6907 - accuracy: 0.6767 - auc: 0.8643\n",
      "Epoch 50/100\n",
      "33/33 [==============================] - 0s 5ms/step - loss: 0.6589 - accuracy: 0.7020 - auc: 0.8786\n",
      "Epoch 51/100\n",
      "33/33 [==============================] - 0s 5ms/step - loss: 0.7001 - accuracy: 0.6826 - auc: 0.8618\n",
      "Epoch 52/100\n",
      "33/33 [==============================] - 0s 6ms/step - loss: 0.8642 - accuracy: 0.6037 - auc: 0.8001\n",
      "Epoch 53/100\n",
      "33/33 [==============================] - 0s 5ms/step - loss: 0.8401 - accuracy: 0.6027 - auc: 0.8027\n",
      "Epoch 54/100\n",
      "33/33 [==============================] - 0s 5ms/step - loss: 0.7462 - accuracy: 0.6319 - auc: 0.8385\n",
      "Epoch 55/100\n",
      "33/33 [==============================] - 0s 5ms/step - loss: 0.7258 - accuracy: 0.6699 - auc: 0.8518\n",
      "Epoch 56/100\n",
      "33/33 [==============================] - 0s 5ms/step - loss: 0.7038 - accuracy: 0.6874 - auc: 0.8620\n",
      "Epoch 57/100\n",
      "33/33 [==============================] - 0s 5ms/step - loss: 0.7404 - accuracy: 0.6495 - auc: 0.8471\n",
      "Epoch 58/100\n",
      "33/33 [==============================] - 0s 5ms/step - loss: 0.6851 - accuracy: 0.6835 - auc: 0.8672\n",
      "Epoch 59/100\n",
      "33/33 [==============================] - 0s 6ms/step - loss: 0.7203 - accuracy: 0.6563 - auc: 0.8509\n",
      "Epoch 60/100\n",
      "33/33 [==============================] - 0s 5ms/step - loss: 0.6381 - accuracy: 0.7040 - auc: 0.8832\n",
      "Epoch 61/100\n",
      "33/33 [==============================] - 0s 5ms/step - loss: 0.6331 - accuracy: 0.7196 - auc: 0.8883\n",
      "Epoch 62/100\n",
      "33/33 [==============================] - 0s 5ms/step - loss: 0.6315 - accuracy: 0.7098 - auc: 0.8870\n",
      "Epoch 63/100\n",
      "33/33 [==============================] - 0s 6ms/step - loss: 0.6342 - accuracy: 0.7205 - auc: 0.8873\n",
      "Epoch 64/100\n",
      "33/33 [==============================] - 0s 5ms/step - loss: 0.5945 - accuracy: 0.7507 - auc: 0.9034\n",
      "Epoch 65/100\n",
      "33/33 [==============================] - 0s 5ms/step - loss: 0.6089 - accuracy: 0.7254 - auc: 0.8955\n",
      "Epoch 66/100\n",
      "33/33 [==============================] - 0s 5ms/step - loss: 0.6346 - accuracy: 0.7118 - auc: 0.8880\n",
      "Epoch 67/100\n",
      "33/33 [==============================] - 0s 5ms/step - loss: 0.6352 - accuracy: 0.7108 - auc: 0.8895\n",
      "Epoch 68/100\n",
      "33/33 [==============================] - 0s 5ms/step - loss: 0.6215 - accuracy: 0.7176 - auc: 0.8936\n",
      "Epoch 69/100\n",
      "33/33 [==============================] - 0s 4ms/step - loss: 0.5636 - accuracy: 0.7692 - auc: 0.9151\n",
      "Epoch 70/100\n",
      "33/33 [==============================] - 0s 4ms/step - loss: 0.5406 - accuracy: 0.7624 - auc: 0.9208\n",
      "Epoch 71/100\n",
      "33/33 [==============================] - 0s 6ms/step - loss: 0.5529 - accuracy: 0.7731 - auc: 0.9163\n",
      "Epoch 72/100\n",
      "33/33 [==============================] - 0s 6ms/step - loss: 0.5256 - accuracy: 0.7751 - auc: 0.9240\n",
      "Epoch 73/100\n",
      "33/33 [==============================] - 0s 6ms/step - loss: 0.5331 - accuracy: 0.7614 - auc: 0.9220\n",
      "Epoch 74/100\n",
      "33/33 [==============================] - 0s 9ms/step - loss: 0.4841 - accuracy: 0.7916 - auc: 0.9371\n",
      "Epoch 75/100\n",
      "33/33 [==============================] - 0s 6ms/step - loss: 0.5313 - accuracy: 0.7770 - auc: 0.9250\n",
      "Epoch 76/100\n",
      "33/33 [==============================] - 0s 6ms/step - loss: 0.4761 - accuracy: 0.8004 - auc: 0.9390\n",
      "Epoch 77/100\n",
      "33/33 [==============================] - 0s 5ms/step - loss: 0.6166 - accuracy: 0.7420 - auc: 0.9000\n",
      "Epoch 78/100\n",
      "33/33 [==============================] - 0s 5ms/step - loss: 0.5366 - accuracy: 0.7683 - auc: 0.9220\n",
      "Epoch 79/100\n",
      "33/33 [==============================] - 0s 5ms/step - loss: 0.4888 - accuracy: 0.7975 - auc: 0.9350\n",
      "Epoch 80/100\n",
      "33/33 [==============================] - 0s 5ms/step - loss: 0.4621 - accuracy: 0.7975 - auc: 0.9421\n",
      "Epoch 81/100\n",
      "33/33 [==============================] - 0s 5ms/step - loss: 0.7175 - accuracy: 0.6962 - auc: 0.8676\n",
      "Epoch 82/100\n",
      "33/33 [==============================] - 0s 4ms/step - loss: 0.6884 - accuracy: 0.7089 - auc: 0.8737\n",
      "Epoch 83/100\n",
      "33/33 [==============================] - 0s 4ms/step - loss: 0.6129 - accuracy: 0.7283 - auc: 0.8978\n",
      "Epoch 84/100\n",
      "33/33 [==============================] - 0s 4ms/step - loss: 0.5324 - accuracy: 0.7780 - auc: 0.9217\n",
      "Epoch 85/100\n",
      "33/33 [==============================] - 0s 8ms/step - loss: 0.4586 - accuracy: 0.8179 - auc: 0.9442\n",
      "Epoch 86/100\n",
      "33/33 [==============================] - 0s 5ms/step - loss: 0.5280 - accuracy: 0.7731 - auc: 0.9245\n",
      "Epoch 87/100\n",
      "33/33 [==============================] - 0s 5ms/step - loss: 0.4264 - accuracy: 0.8306 - auc: 0.9506\n",
      "Epoch 88/100\n",
      "33/33 [==============================] - 0s 4ms/step - loss: 0.5914 - accuracy: 0.7546 - auc: 0.9117\n",
      "Epoch 89/100\n",
      "33/33 [==============================] - 0s 5ms/step - loss: 0.4530 - accuracy: 0.8160 - auc: 0.9442\n",
      "Epoch 90/100\n",
      "33/33 [==============================] - 0s 5ms/step - loss: 0.5043 - accuracy: 0.7887 - auc: 0.9323\n",
      "Epoch 91/100\n",
      "33/33 [==============================] - 0s 5ms/step - loss: 0.6670 - accuracy: 0.7381 - auc: 0.8962\n",
      "Epoch 92/100\n",
      "33/33 [==============================] - 0s 4ms/step - loss: 0.4979 - accuracy: 0.7829 - auc: 0.9325\n",
      "Epoch 93/100\n",
      "33/33 [==============================] - 0s 5ms/step - loss: 0.4505 - accuracy: 0.8189 - auc: 0.9458\n",
      "Epoch 94/100\n",
      "33/33 [==============================] - 0s 4ms/step - loss: 0.4389 - accuracy: 0.8140 - auc: 0.9467\n",
      "Epoch 95/100\n",
      "33/33 [==============================] - 0s 4ms/step - loss: 0.4061 - accuracy: 0.8384 - auc: 0.9554\n",
      "Epoch 96/100\n",
      "33/33 [==============================] - 0s 5ms/step - loss: 0.3866 - accuracy: 0.8413 - auc: 0.9589\n",
      "Epoch 97/100\n",
      "33/33 [==============================] - 0s 4ms/step - loss: 0.3798 - accuracy: 0.8530 - auc: 0.9618\n",
      "Epoch 98/100\n",
      "33/33 [==============================] - 0s 5ms/step - loss: 0.4768 - accuracy: 0.7994 - auc: 0.9387\n",
      "Epoch 99/100\n",
      "33/33 [==============================] - 0s 9ms/step - loss: 0.3919 - accuracy: 0.8315 - auc: 0.9576\n",
      "Epoch 100/100\n",
      "33/33 [==============================] - 0s 5ms/step - loss: 0.3440 - accuracy: 0.8666 - auc: 0.9681\n"
     ]
    },
    {
     "data": {
      "text/plain": [
       "<keras.callbacks.History at 0x215ce6b2a00>"
      ]
     },
     "execution_count": 25,
     "metadata": {},
     "output_type": "execute_result"
    }
   ],
   "source": [
    "# train model\n",
    "model.fit(train, y_train, epochs=100, batch_size=32)"
   ]
  },
  {
   "cell_type": "code",
   "execution_count": 26,
   "id": "f836bf1d-3775-40ea-9bbf-51a4db36c80c",
   "metadata": {
    "scrolled": true
   },
   "outputs": [
    {
     "name": "stdout",
     "output_type": "stream",
     "text": [
      "8/8 [==============================] - 0s 4ms/step - loss: 1.9265 - accuracy: 0.4500 - auc: 0.6208\n"
     ]
    }
   ],
   "source": [
    "# eval\n",
    "loss, accuracy, AUC = model.evaluate(test, y_test)"
   ]
  },
  {
   "cell_type": "code",
   "execution_count": null,
   "id": "ae99a80c-20f9-4719-9ae7-28c3397a8733",
   "metadata": {},
   "outputs": [],
   "source": [
    "# 28 accuracy: 0.4333 - auc: 0.6083\n",
    "# 28 accuracy: 0.4917 - auc: 0.6591\n",
    " 0.4083 - auc: 0.6020"
   ]
  }
 ],
 "metadata": {
  "kernelspec": {
   "display_name": "Python 3 (ipykernel)",
   "language": "python",
   "name": "python3"
  },
  "language_info": {
   "codemirror_mode": {
    "name": "ipython",
    "version": 3
   },
   "file_extension": ".py",
   "mimetype": "text/x-python",
   "name": "python",
   "nbconvert_exporter": "python",
   "pygments_lexer": "ipython3",
   "version": "3.9.19"
  }
 },
 "nbformat": 4,
 "nbformat_minor": 5
}
