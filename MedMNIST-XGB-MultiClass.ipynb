{
 "cells": [
  {
   "cell_type": "code",
   "execution_count": 1,
   "id": "31cf1b48-ecc6-45a8-b2d6-d67b0025ca77",
   "metadata": {},
   "outputs": [],
   "source": [
    "import xgboost as xgb\n",
    "from sklearn.model_selection import RandomizedSearchCV\n",
    "from sklearn.preprocessing import MultiLabelBinarizer, LabelEncoder, label_binarize\n",
    "from sklearn.metrics import accuracy_score, roc_auc_score\n",
    "import numpy as np\n",
    "import pandas as pd\n",
    "import tensorflow as tf"
   ]
  },
  {
   "cell_type": "code",
   "execution_count": 2,
   "id": "c16f15c9-bf1f-469e-8ec3-7dd45248263e",
   "metadata": {},
   "outputs": [],
   "source": [
    "n_classes = 11"
   ]
  },
  {
   "cell_type": "code",
   "execution_count": 3,
   "id": "ac76d566-ac65-440f-adff-407f06fd7e53",
   "metadata": {},
   "outputs": [],
   "source": [
    "data = np.load('organsmnist.npz')\n",
    "\n",
    "X_train = pd.read_csv('train_OrganSMnist224_BettiVectors_100 1.csv')\n",
    "X_test = pd.read_csv('test_OrganSMnist224_BettiVectors_100.csv')\n",
    "\n",
    "train_labels = data['train_labels']\n",
    "test_labels = data['test_labels']"
   ]
  },
  {
   "cell_type": "code",
   "execution_count": 4,
   "id": "2dce9bc1-c7d4-425e-9209-aace3f4782be",
   "metadata": {},
   "outputs": [],
   "source": [
    "train_labels_df = pd.DataFrame(train_labels)\n",
    "test_labels_df = pd.DataFrame(test_labels)"
   ]
  },
  {
   "cell_type": "code",
   "execution_count": 5,
   "id": "1c3f3c43-370b-483e-8e12-e1dcb51a59bb",
   "metadata": {},
   "outputs": [],
   "source": [
    "train_labels_df['combined'] = train_labels_df.astype(str).apply(''.join, axis=1)\n",
    "test_labels_df['combined'] = test_labels_df.astype(str).apply(''.join, axis=1)"
   ]
  },
  {
   "cell_type": "code",
   "execution_count": 6,
   "id": "8e3b05a2-4165-43a1-9368-4b57854322f3",
   "metadata": {},
   "outputs": [],
   "source": [
    "train_df = pd.DataFrame(train_labels_df['combined'])\n",
    "test_df = pd.DataFrame(test_labels_df['combined'])\n",
    "train_df = train_df.squeeze()\n",
    "test_df = test_df.squeeze()"
   ]
  },
  {
   "cell_type": "code",
   "execution_count": 7,
   "id": "72f4d993-5d1b-4f13-83f6-87781ba8d62c",
   "metadata": {},
   "outputs": [],
   "source": [
    "label_encoder = LabelEncoder() \n",
    "\n",
    "y_train = label_encoder.fit_transform(train_df)\n",
    "y_test = label_encoder.fit_transform(test_df)"
   ]
  },
  {
   "cell_type": "code",
   "execution_count": 8,
   "id": "9422e3d8-194f-4308-9dd4-43b62cb3c33f",
   "metadata": {},
   "outputs": [
    {
     "name": "stdout",
     "output_type": "stream",
     "text": [
      "Accuracy: 58.72%\n"
     ]
    }
   ],
   "source": [
    "model = xgb.XGBClassifier(objective='multi:softmax', num_class = n_classes, n_estimators=100)\n",
    "\n",
    "model.fit(X_train, y_train)\n",
    "\n",
    "normal_prediction = model.predict(X_test)\n",
    "\n",
    "accuracy = accuracy_score(y_test, normal_prediction)\n",
    "\n",
    "print(f\"Accuracy: {accuracy * 100:.2f}%\")"
   ]
  },
  {
   "cell_type": "code",
   "execution_count": 9,
   "id": "f76a9281-2a03-41b8-98dd-9354eeb02575",
   "metadata": {},
   "outputs": [
    {
     "name": "stdout",
     "output_type": "stream",
     "text": [
      "AUC: 91.18%\n"
     ]
    }
   ],
   "source": [
    "probabilities = model.predict_proba(X_test)\n",
    "\n",
    "auc = roc_auc_score(y_test, probabilities, multi_class='ovr')\n",
    "\n",
    "print(f\"AUC: {auc * 100:.2f}%\")"
   ]
  },
  {
   "cell_type": "code",
   "execution_count": null,
   "id": "5f175259-975a-444b-874d-f50c79c3bd43",
   "metadata": {},
   "outputs": [],
   "source": []
  }
 ],
 "metadata": {
  "kernelspec": {
   "display_name": "Python 3 (ipykernel)",
   "language": "python",
   "name": "python3"
  },
  "language_info": {
   "codemirror_mode": {
    "name": "ipython",
    "version": 3
   },
   "file_extension": ".py",
   "mimetype": "text/x-python",
   "name": "python",
   "nbconvert_exporter": "python",
   "pygments_lexer": "ipython3",
   "version": "3.9.19"
  }
 },
 "nbformat": 4,
 "nbformat_minor": 5
}
