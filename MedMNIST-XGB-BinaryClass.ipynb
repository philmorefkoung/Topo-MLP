{
 "cells": [
  {
   "cell_type": "code",
   "execution_count": 1,
   "id": "3e2e39e2-e4c9-45d4-b6ab-03c65bfc6fdb",
   "metadata": {},
   "outputs": [],
   "source": [
    "import xgboost as xgb\n",
    "from sklearn.model_selection import RandomizedSearchCV\n",
    "from sklearn.preprocessing import MultiLabelBinarizer, LabelEncoder, label_binarize\n",
    "from sklearn.metrics import accuracy_score, roc_auc_score\n",
    "import numpy as np\n",
    "import pandas as pd\n",
    "import tensorflow as tf"
   ]
  },
  {
   "cell_type": "code",
   "execution_count": 2,
   "id": "f5a265d6-8bb2-4590-b757-f233eb060ab2",
   "metadata": {},
   "outputs": [],
   "source": [
    "n_classes = 2"
   ]
  },
  {
   "cell_type": "code",
   "execution_count": 3,
   "id": "400496b4-2d3d-432e-9858-010f528041e5",
   "metadata": {},
   "outputs": [],
   "source": [
    "# pneum retina breast\n",
    "data = np.load('pneumoniamnist.npz')\n",
    "\n",
    "# Load the training data\n",
    "X_train = pd.read_csv('train_PneumoniaMnist224_BettiVectors_100.csv')\n",
    "X_test = pd.read_csv('test_PneumoniaMnist224_BettiVectors_100.csv')\n",
    "\n",
    "train_labels = data['train_labels']\n",
    "test_labels = data['test_labels']"
   ]
  },
  {
   "cell_type": "code",
   "execution_count": 4,
   "id": "4a18a179-f1ef-4d8c-bc7c-9c1388cf52c0",
   "metadata": {},
   "outputs": [],
   "source": [
    "train_labels_df = pd.DataFrame(train_labels)\n",
    "test_labels_df = pd.DataFrame(test_labels)\n",
    "\n",
    "train_labels_df['combined'] = train_labels_df.astype(str).apply(''.join, axis=1)\n",
    "test_labels_df['combined'] = test_labels_df.astype(str).apply(''.join, axis=1)\n",
    "\n",
    "train_df = pd.DataFrame(train_labels_df['combined'])\n",
    "test_df = pd.DataFrame(test_labels_df['combined'])\n",
    "\n",
    "train_df = train_df.squeeze()\n",
    "test_df = test_df.squeeze()\n",
    "\n",
    "label_encoder = LabelEncoder() \n",
    "\n",
    "y_train = label_encoder.fit_transform(train_df)\n",
    "y_test = label_encoder.fit_transform(test_df)"
   ]
  },
  {
   "cell_type": "code",
   "execution_count": 5,
   "id": "ed624e93-433c-45c2-a95d-d2239f8106b9",
   "metadata": {},
   "outputs": [
    {
     "name": "stdout",
     "output_type": "stream",
     "text": [
      "Accuracy: 78.85%\n"
     ]
    }
   ],
   "source": [
    "model = xgb.XGBClassifier(objective='multi:softmax', num_class = n_classes, n_estimators=100)\n",
    "\n",
    "model.fit(X_train, y_train)\n",
    "\n",
    "normal_prediction = model.predict(X_test)\n",
    "\n",
    "accuracy = accuracy_score(y_test, normal_prediction)\n",
    "\n",
    "print(f\"Accuracy: {accuracy * 100:.2f}%\")"
   ]
  },
  {
   "cell_type": "code",
   "execution_count": 6,
   "id": "ee10fcce-1a56-4978-ac55-d443e48937c7",
   "metadata": {},
   "outputs": [
    {
     "name": "stdout",
     "output_type": "stream",
     "text": [
      "AUC: 88.75%\n"
     ]
    }
   ],
   "source": [
    "probabilities = model.predict_proba(X_test)[:,1]\n",
    "\n",
    "auc = roc_auc_score(y_test, probabilities)\n",
    "\n",
    "print(f\"AUC: {auc * 100:.2f}%\")"
   ]
  },
  {
   "cell_type": "code",
   "execution_count": null,
   "id": "e93cdfa5-6003-4f25-831b-2f28ce3b3345",
   "metadata": {},
   "outputs": [],
   "source": []
  }
 ],
 "metadata": {
  "kernelspec": {
   "display_name": "Python 3 (ipykernel)",
   "language": "python",
   "name": "python3"
  },
  "language_info": {
   "codemirror_mode": {
    "name": "ipython",
    "version": 3
   },
   "file_extension": ".py",
   "mimetype": "text/x-python",
   "name": "python",
   "nbconvert_exporter": "python",
   "pygments_lexer": "ipython3",
   "version": "3.9.19"
  }
 },
 "nbformat": 4,
 "nbformat_minor": 5
}
